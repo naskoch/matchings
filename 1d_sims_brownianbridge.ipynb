{
 "cells": [
  {
   "cell_type": "code",
   "execution_count": 10,
   "metadata": {
    "collapsed": true
   },
   "outputs": [],
   "source": [
    "import numpy as np\n",
    "import matplotlib.pyplot as plt\n",
    "import math\n",
    "from scipy.special import gamma"
   ]
  },
  {
   "cell_type": "code",
   "execution_count": 11,
   "metadata": {
    "collapsed": false
   },
   "outputs": [],
   "source": [
    "# concerned about 1d assignment with c(u,v) = |u-v|\n",
    "\n",
    "def sample_unif_spacing(n):\n",
    "    '''consider 2n points uniformly spaced on [0,1] line: exactly n of each type\n",
    "       returns a uniform random sample of this setup'''\n",
    "    \n",
    "    points = np.linspace(0.,1.,2*n)\n",
    "    \n",
    "    colors = -1.*np.ones((2*n,1))\n",
    "    s = np.random.choice(range(2*n), n, replace=False)\n",
    "    colors[s] = 1.\n",
    "    \n",
    "    return colors, points\n",
    "\n",
    "def comp_cost_crossing(colors, points):\n",
    "    '''consider matching using identity permutation, compute cost of this matching'''\n",
    "\n",
    "    n = int(len(points))/2\n",
    "    x = np.where(colors == 1.)[0]\n",
    "    y = np.where(colors == -1.)[0]\n",
    "    \n",
    "    S = 0.\n",
    "    for k in range(n):\n",
    "        u = x[k]\n",
    "        v = y[k]\n",
    "        S += np.abs(points[u]-points[v])\n",
    "        \n",
    "    return S\n",
    "\n",
    "def comp_cost_noncrossing(colors, points):\n",
    "    '''consider the matching that gives rise to the brownian bridge interpretation (view matching as a stack)\n",
    "       compute the cost of this matching'''\n",
    "\n",
    "    n = int(len(points))/2\n",
    "    # unmatched stacks\n",
    "    un_1 = []\n",
    "    un_0 = []\n",
    "    S = 0.\n",
    "    for k in range(2*n):\n",
    "        c = colors[k]\n",
    "        if c == 1.:\n",
    "            if len(un_0) > 0:\n",
    "                j = un_0.pop()\n",
    "                S += np.abs(points[k]-points[j])\n",
    "            else:\n",
    "                un_1.append(k)\n",
    "        elif c == -1.:\n",
    "            if len(un_1) > 0:\n",
    "                j = un_1.pop()\n",
    "                S += np.abs(points[k]-points[j])\n",
    "            else:\n",
    "                un_0.append(k)\n",
    "                \n",
    "    return S\n",
    "\n",
    "def convert_bbridge(colors, points):\n",
    "    '''convert the non-crossing matching from input to the a brownian bridge sequence'''\n",
    "    \n",
    "    n = int(len(points))/2\n",
    "    bb = [0.]*(2*n+1)\n",
    "    \n",
    "    S = 0.\n",
    "    for k in range(2*n):\n",
    "        S += float(colors[k])\n",
    "        bb[k+1] = S\n",
    "        \n",
    "    return bb\n",
    "\n",
    "def plot_bbridge(colors, points):\n",
    "    '''visualize the brownian bridge interpretation'''\n",
    "    \n",
    "    bb = convert_bbridge(colors, points)\n",
    "    \n",
    "    r = np.where(colors == 1.)[0]\n",
    "    b = np.where(colors == -1.)[0]\n",
    "    \n",
    "    h = points[1]-points[0]\n",
    "    \n",
    "    plt.plot(points[r], [0.]*n, 'ro')\n",
    "    plt.plot(points[b], [0.]*n, 'bo')\n",
    "    plt.plot(np.append([-1.*h], points), bb, 'k')\n",
    "    plt.xlim([-1.*h, 1.])\n",
    "    plt.show()\n",
    "    "
   ]
  },
  {
   "cell_type": "code",
   "execution_count": 12,
   "metadata": {
    "collapsed": false
   },
   "outputs": [
    {
     "name": "stdout",
     "output_type": "stream",
     "text": [
      "1.6923076923076916\n",
      "1.6923076923076916\n"
     ]
    },
    {
     "data": {
      "image/png": "[encoded data removed]",
      "text/plain": [
       "<matplotlib.figure.Figure at 0x7f1ea60f5890>"
      ]
     },
     "metadata": {},
     "output_type": "display_data"
    }
   ],
   "source": [
    "n = 20\n",
    "\n",
    "colors, points = sample_unif_spacing(n)\n",
    "#print colors\n",
    "\n",
    "print comp_cost_crossing(colors, points)\n",
    "print comp_cost_noncrossing(colors, points)\n",
    "\n",
    "#print convert_bbridge(colors, points)\n",
    "\n",
    "plot_bbridge(colors, points)"
   ]
  },
  {
   "cell_type": "code",
   "execution_count": 13,
   "metadata": {
    "collapsed": false
   },
   "outputs": [
    {
     "ename": "ValueError",
     "evalue": "x and y must have same first dimension",
     "output_type": "error",
     "traceback": [
      "\u001b[0;31m---------------------------------------------------------------------------\u001b[0m",
      "\u001b[0;31mValueError\u001b[0m                                Traceback (most recent call last)",
      "\u001b[0;32m<ipython-input-13-519b8abe104c>\u001b[0m in \u001b[0;36m<module>\u001b[0;34m()\u001b[0m\n\u001b[1;32m      7\u001b[0m \u001b[0;34m\u001b[0m\u001b[0m\n\u001b[1;32m      8\u001b[0m \u001b[0mplt\u001b[0m\u001b[0;34m.\u001b[0m\u001b[0mplot\u001b[0m\u001b[0;34m(\u001b[0m\u001b[0mpoints\u001b[0m\u001b[0;34m[\u001b[0m\u001b[0mr\u001b[0m\u001b[0;34m]\u001b[0m\u001b[0;34m,\u001b[0m \u001b[0;34m[\u001b[0m\u001b[0;36m0.\u001b[0m\u001b[0;34m]\u001b[0m\u001b[0;34m*\u001b[0m\u001b[0mn\u001b[0m\u001b[0;34m,\u001b[0m \u001b[0;34m'ro'\u001b[0m\u001b[0;34m)\u001b[0m\u001b[0;34m\u001b[0m\u001b[0m\n\u001b[0;32m----> 9\u001b[0;31m \u001b[0mplt\u001b[0m\u001b[0;34m.\u001b[0m\u001b[0mplot\u001b[0m\u001b[0;34m(\u001b[0m\u001b[0mpoints\u001b[0m\u001b[0;34m[\u001b[0m\u001b[0mb\u001b[0m\u001b[0;34m]\u001b[0m\u001b[0;34m,\u001b[0m \u001b[0;34m[\u001b[0m\u001b[0;36m0.\u001b[0m\u001b[0;34m]\u001b[0m\u001b[0;34m*\u001b[0m\u001b[0mn\u001b[0m\u001b[0;34m,\u001b[0m \u001b[0;34m'bo'\u001b[0m\u001b[0;34m)\u001b[0m\u001b[0;34m\u001b[0m\u001b[0m\n\u001b[0m\u001b[1;32m     10\u001b[0m \u001b[0mplt\u001b[0m\u001b[0;34m.\u001b[0m\u001b[0mshow\u001b[0m\u001b[0;34m(\u001b[0m\u001b[0;34m)\u001b[0m\u001b[0;34m\u001b[0m\u001b[0m\n",
      "\u001b[0;32m/home/naskoch/anaconda2/lib/python2.7/site-packages/matplotlib/pyplot.pyc\u001b[0m in \u001b[0;36mplot\u001b[0;34m(*args, **kwargs)\u001b[0m\n\u001b[1;32m   3159\u001b[0m         \u001b[0max\u001b[0m\u001b[0;34m.\u001b[0m\u001b[0mhold\u001b[0m\u001b[0;34m(\u001b[0m\u001b[0mhold\u001b[0m\u001b[0;34m)\u001b[0m\u001b[0;34m\u001b[0m\u001b[0m\n\u001b[1;32m   3160\u001b[0m     \u001b[0;32mtry\u001b[0m\u001b[0;34m:\u001b[0m\u001b[0;34m\u001b[0m\u001b[0m\n\u001b[0;32m-> 3161\u001b[0;31m         \u001b[0mret\u001b[0m \u001b[0;34m=\u001b[0m \u001b[0max\u001b[0m\u001b[0;34m.\u001b[0m\u001b[0mplot\u001b[0m\u001b[0;34m(\u001b[0m\u001b[0;34m*\u001b[0m\u001b[0margs\u001b[0m\u001b[0;34m,\u001b[0m \u001b[0;34m**\u001b[0m\u001b[0mkwargs\u001b[0m\u001b[0;34m)\u001b[0m\u001b[0;34m\u001b[0m\u001b[0m\n\u001b[0m\u001b[1;32m   3162\u001b[0m     \u001b[0;32mfinally\u001b[0m\u001b[0;34m:\u001b[0m\u001b[0;34m\u001b[0m\u001b[0m\n\u001b[1;32m   3163\u001b[0m         \u001b[0max\u001b[0m\u001b[0;34m.\u001b[0m\u001b[0mhold\u001b[0m\u001b[0;34m(\u001b[0m\u001b[0mwashold\u001b[0m\u001b[0;34m)\u001b[0m\u001b[0;34m\u001b[0m\u001b[0m\n",
      "\u001b[0;32m/home/naskoch/anaconda2/lib/python2.7/site-packages/matplotlib/__init__.pyc\u001b[0m in \u001b[0;36minner\u001b[0;34m(ax, *args, **kwargs)\u001b[0m\n\u001b[1;32m   1817\u001b[0m                     warnings.warn(msg % (label_namer, func.__name__),\n\u001b[1;32m   1818\u001b[0m                                   RuntimeWarning, stacklevel=2)\n\u001b[0;32m-> 1819\u001b[0;31m             \u001b[0;32mreturn\u001b[0m \u001b[0mfunc\u001b[0m\u001b[0;34m(\u001b[0m\u001b[0max\u001b[0m\u001b[0;34m,\u001b[0m \u001b[0;34m*\u001b[0m\u001b[0margs\u001b[0m\u001b[0;34m,\u001b[0m \u001b[0;34m**\u001b[0m\u001b[0mkwargs\u001b[0m\u001b[0;34m)\u001b[0m\u001b[0;34m\u001b[0m\u001b[0m\n\u001b[0m\u001b[1;32m   1820\u001b[0m         \u001b[0mpre_doc\u001b[0m \u001b[0;34m=\u001b[0m \u001b[0minner\u001b[0m\u001b[0;34m.\u001b[0m\u001b[0m__doc__\u001b[0m\u001b[0;34m\u001b[0m\u001b[0m\n\u001b[1;32m   1821\u001b[0m         \u001b[0;32mif\u001b[0m \u001b[0mpre_doc\u001b[0m \u001b[0;32mis\u001b[0m \u001b[0mNone\u001b[0m\u001b[0;34m:\u001b[0m\u001b[0;34m\u001b[0m\u001b[0m\n",
      "\u001b[0;32m/home/naskoch/anaconda2/lib/python2.7/site-packages/matplotlib/axes/_axes.pyc\u001b[0m in \u001b[0;36mplot\u001b[0;34m(self, *args, **kwargs)\u001b[0m\n\u001b[1;32m   1380\u001b[0m         \u001b[0mkwargs\u001b[0m \u001b[0;34m=\u001b[0m \u001b[0mcbook\u001b[0m\u001b[0;34m.\u001b[0m\u001b[0mnormalize_kwargs\u001b[0m\u001b[0;34m(\u001b[0m\u001b[0mkwargs\u001b[0m\u001b[0;34m,\u001b[0m \u001b[0m_alias_map\u001b[0m\u001b[0;34m)\u001b[0m\u001b[0;34m\u001b[0m\u001b[0m\n\u001b[1;32m   1381\u001b[0m \u001b[0;34m\u001b[0m\u001b[0m\n\u001b[0;32m-> 1382\u001b[0;31m         \u001b[0;32mfor\u001b[0m \u001b[0mline\u001b[0m \u001b[0;32min\u001b[0m \u001b[0mself\u001b[0m\u001b[0;34m.\u001b[0m\u001b[0m_get_lines\u001b[0m\u001b[0;34m(\u001b[0m\u001b[0;34m*\u001b[0m\u001b[0margs\u001b[0m\u001b[0;34m,\u001b[0m \u001b[0;34m**\u001b[0m\u001b[0mkwargs\u001b[0m\u001b[0;34m)\u001b[0m\u001b[0;34m:\u001b[0m\u001b[0;34m\u001b[0m\u001b[0m\n\u001b[0m\u001b[1;32m   1383\u001b[0m             \u001b[0mself\u001b[0m\u001b[0;34m.\u001b[0m\u001b[0madd_line\u001b[0m\u001b[0;34m(\u001b[0m\u001b[0mline\u001b[0m\u001b[0;34m)\u001b[0m\u001b[0;34m\u001b[0m\u001b[0m\n\u001b[1;32m   1384\u001b[0m             \u001b[0mlines\u001b[0m\u001b[0;34m.\u001b[0m\u001b[0mappend\u001b[0m\u001b[0;34m(\u001b[0m\u001b[0mline\u001b[0m\u001b[0;34m)\u001b[0m\u001b[0;34m\u001b[0m\u001b[0m\n",
      "\u001b[0;32m/home/naskoch/anaconda2/lib/python2.7/site-packages/matplotlib/axes/_base.pyc\u001b[0m in \u001b[0;36m_grab_next_args\u001b[0;34m(self, *args, **kwargs)\u001b[0m\n\u001b[1;32m    379\u001b[0m                 \u001b[0;32mreturn\u001b[0m\u001b[0;34m\u001b[0m\u001b[0m\n\u001b[1;32m    380\u001b[0m             \u001b[0;32mif\u001b[0m \u001b[0mlen\u001b[0m\u001b[0;34m(\u001b[0m\u001b[0mremaining\u001b[0m\u001b[0;34m)\u001b[0m \u001b[0;34m<=\u001b[0m \u001b[0;36m3\u001b[0m\u001b[0;34m:\u001b[0m\u001b[0;34m\u001b[0m\u001b[0m\n\u001b[0;32m--> 381\u001b[0;31m                 \u001b[0;32mfor\u001b[0m \u001b[0mseg\u001b[0m \u001b[0;32min\u001b[0m \u001b[0mself\u001b[0m\u001b[0;34m.\u001b[0m\u001b[0m_plot_args\u001b[0m\u001b[0;34m(\u001b[0m\u001b[0mremaining\u001b[0m\u001b[0;34m,\u001b[0m \u001b[0mkwargs\u001b[0m\u001b[0;34m)\u001b[0m\u001b[0;34m:\u001b[0m\u001b[0;34m\u001b[0m\u001b[0m\n\u001b[0m\u001b[1;32m    382\u001b[0m                     \u001b[0;32myield\u001b[0m \u001b[0mseg\u001b[0m\u001b[0;34m\u001b[0m\u001b[0m\n\u001b[1;32m    383\u001b[0m                 \u001b[0;32mreturn\u001b[0m\u001b[0;34m\u001b[0m\u001b[0m\n",
      "\u001b[0;32m/home/naskoch/anaconda2/lib/python2.7/site-packages/matplotlib/axes/_base.pyc\u001b[0m in \u001b[0;36m_plot_args\u001b[0;34m(self, tup, kwargs)\u001b[0m\n\u001b[1;32m    357\u001b[0m             \u001b[0mx\u001b[0m\u001b[0;34m,\u001b[0m \u001b[0my\u001b[0m \u001b[0;34m=\u001b[0m \u001b[0mindex_of\u001b[0m\u001b[0;34m(\u001b[0m\u001b[0mtup\u001b[0m\u001b[0;34m[\u001b[0m\u001b[0;34m-\u001b[0m\u001b[0;36m1\u001b[0m\u001b[0;34m]\u001b[0m\u001b[0;34m)\u001b[0m\u001b[0;34m\u001b[0m\u001b[0m\n\u001b[1;32m    358\u001b[0m \u001b[0;34m\u001b[0m\u001b[0m\n\u001b[0;32m--> 359\u001b[0;31m         \u001b[0mx\u001b[0m\u001b[0;34m,\u001b[0m \u001b[0my\u001b[0m \u001b[0;34m=\u001b[0m \u001b[0mself\u001b[0m\u001b[0;34m.\u001b[0m\u001b[0m_xy_from_xy\u001b[0m\u001b[0;34m(\u001b[0m\u001b[0mx\u001b[0m\u001b[0;34m,\u001b[0m \u001b[0my\u001b[0m\u001b[0;34m)\u001b[0m\u001b[0;34m\u001b[0m\u001b[0m\n\u001b[0m\u001b[1;32m    360\u001b[0m \u001b[0;34m\u001b[0m\u001b[0m\n\u001b[1;32m    361\u001b[0m         \u001b[0;32mif\u001b[0m \u001b[0mself\u001b[0m\u001b[0;34m.\u001b[0m\u001b[0mcommand\u001b[0m \u001b[0;34m==\u001b[0m \u001b[0;34m'plot'\u001b[0m\u001b[0;34m:\u001b[0m\u001b[0;34m\u001b[0m\u001b[0m\n",
      "\u001b[0;32m/home/naskoch/anaconda2/lib/python2.7/site-packages/matplotlib/axes/_base.pyc\u001b[0m in \u001b[0;36m_xy_from_xy\u001b[0;34m(self, x, y)\u001b[0m\n\u001b[1;32m    217\u001b[0m         \u001b[0my\u001b[0m \u001b[0;34m=\u001b[0m \u001b[0m_check_1d\u001b[0m\u001b[0;34m(\u001b[0m\u001b[0my\u001b[0m\u001b[0;34m)\u001b[0m\u001b[0;34m\u001b[0m\u001b[0m\n\u001b[1;32m    218\u001b[0m         \u001b[0;32mif\u001b[0m \u001b[0mx\u001b[0m\u001b[0;34m.\u001b[0m\u001b[0mshape\u001b[0m\u001b[0;34m[\u001b[0m\u001b[0;36m0\u001b[0m\u001b[0;34m]\u001b[0m \u001b[0;34m!=\u001b[0m \u001b[0my\u001b[0m\u001b[0;34m.\u001b[0m\u001b[0mshape\u001b[0m\u001b[0;34m[\u001b[0m\u001b[0;36m0\u001b[0m\u001b[0;34m]\u001b[0m\u001b[0;34m:\u001b[0m\u001b[0;34m\u001b[0m\u001b[0m\n\u001b[0;32m--> 219\u001b[0;31m             \u001b[0;32mraise\u001b[0m \u001b[0mValueError\u001b[0m\u001b[0;34m(\u001b[0m\u001b[0;34m\"x and y must have same first dimension\"\u001b[0m\u001b[0;34m)\u001b[0m\u001b[0;34m\u001b[0m\u001b[0m\n\u001b[0m\u001b[1;32m    220\u001b[0m         \u001b[0;32mif\u001b[0m \u001b[0mx\u001b[0m\u001b[0;34m.\u001b[0m\u001b[0mndim\u001b[0m \u001b[0;34m>\u001b[0m \u001b[0;36m2\u001b[0m \u001b[0;32mor\u001b[0m \u001b[0my\u001b[0m\u001b[0;34m.\u001b[0m\u001b[0mndim\u001b[0m \u001b[0;34m>\u001b[0m \u001b[0;36m2\u001b[0m\u001b[0;34m:\u001b[0m\u001b[0;34m\u001b[0m\u001b[0m\n\u001b[1;32m    221\u001b[0m             \u001b[0;32mraise\u001b[0m \u001b[0mValueError\u001b[0m\u001b[0;34m(\u001b[0m\u001b[0;34m\"x and y can be no greater than 2-D\"\u001b[0m\u001b[0;34m)\u001b[0m\u001b[0;34m\u001b[0m\u001b[0m\n",
      "\u001b[0;31mValueError\u001b[0m: x and y must have same first dimension"
     ]
    }
   ],
   "source": [
    "n = 10\n",
    "\n",
    "colors, points = sample_unif_spacing(n)\n",
    "\n",
    "r = np.where(colors == 1.)[0]\n",
    "b = np.where(colors == 0.)[0]\n",
    "\n",
    "plt.plot(points[r], [0.]*n, 'ro')\n",
    "plt.plot(points[b], [0.]*n, 'bo')\n",
    "plt.show()"
   ]
  },
  {
   "cell_type": "code",
   "execution_count": 61,
   "metadata": {
    "collapsed": false
   },
   "outputs": [
    {
     "name": "stdout",
     "output_type": "stream",
     "text": [
      "power\n",
      "0.4680944225535456\n",
      "factor\n",
      "0.505843053439\n"
     ]
    },
    {
     "name": "stderr",
     "output_type": "stream",
     "text": [
      "/home/naskoch/anaconda2/lib/python2.7/site-packages/ipykernel/__main__.py:22: FutureWarning: `rcond` parameter will change to the default of machine precision times ``max(M, N)`` where M and N are the input matrix dimensions.\n",
      "To use the future default and silence this warning we advise to pass `rcond=None`, to keep using the old, explicitly pass `rcond=-1`.\n"
     ]
    },
    {
     "data": {
      "image/png": "[encoded data removed]",
      "text/plain": [
       "<matplotlib.figure.Figure at 0x7f1ea5a7f150>"
      ]
     },
     "metadata": {},
     "output_type": "display_data"
    },
    {
     "name": "stdout",
     "output_type": "stream",
     "text": [
      "power\n",
      "0.4818061909456491\n",
      "factor\n",
      "0.600325092264\n"
     ]
    },
    {
     "name": "stderr",
     "output_type": "stream",
     "text": [
      "/home/naskoch/anaconda2/lib/python2.7/site-packages/ipykernel/__main__.py:43: FutureWarning: `rcond` parameter will change to the default of machine precision times ``max(M, N)`` where M and N are the input matrix dimensions.\n",
      "To use the future default and silence this warning we advise to pass `rcond=None`, to keep using the old, explicitly pass `rcond=-1`.\n"
     ]
    }
   ],
   "source": [
    "# check asymptotic cost\n",
    "\n",
    "#ns = [10, 100, 200, 500, 1000, 2000, 5000, 10000]\n",
    "\n",
    "ns = [10, 15, 20, 25, 30, 35, 40, 45, 50]\n",
    "\n",
    "costs = [0.]*len(ns)\n",
    "trials = 50000\n",
    "\n",
    "for k in range(len(ns)):\n",
    "    S = 0.\n",
    "    n = ns[k]\n",
    "    for j in range(trials):\n",
    "        colors, points = sample_unif_spacing(n)\n",
    "        S += comp_cost_crossing(colors, points)\n",
    "        \n",
    "    costs[k] = S/float(trials)\n",
    "    \n",
    "plt.plot(ns, costs)\n",
    "\n",
    "A = np.vstack([np.log(ns), np.ones(len(ns))]).T\n",
    "b, a = np.linalg.lstsq(A, np.log(np.array(costs)))[0]\n",
    "\n",
    "print 'power'\n",
    "print b\n",
    "print 'factor'\n",
    "print math.exp(a)\n",
    "\n",
    "ests = [1./(2.*n-1.)*sum([k**(1./2.) for k in range(2*n+1)]) - 1./(2.*n-1.)/math.sqrt(2.*n) * sum([k for k in range(2*n+1)]) for n in ns]\n",
    "\n",
    "ests2 = [1./(2.*n-1.)* sum([math.sqrt(k*(2.*n-k)/(2.*n)) for k in range(2*n+1)]) for n in ns]\n",
    "\n",
    "plt.plot(ns,[math.exp(a)*(n**b) for n in ns], 'ro')\n",
    "plt.plot(ns, ests, 'go')\n",
    "plt.plot(ns, ests2, 'ko')\n",
    "plt.xlabel('n')\n",
    "plt.ylabel('expected cost')\n",
    "plt.show()\n",
    "\n",
    "# check fit from ests2\n",
    "\n",
    "A = np.vstack([np.log(ns), np.ones(len(ns))]).T\n",
    "b, a = np.linalg.lstsq(A, np.log(np.array(ests2)))[0]\n",
    "\n",
    "print 'power'\n",
    "print b\n",
    "print 'factor'\n",
    "print math.exp(a)"
   ]
  },
  {
   "cell_type": "code",
   "execution_count": 67,
   "metadata": {
    "collapsed": false
   },
   "outputs": [
    {
     "name": "stdout",
     "output_type": "stream",
     "text": [
      "1.4871794871794872\n",
      "1.4871794871794872\n",
      "1.4871794871794866\n"
     ]
    }
   ],
   "source": [
    "# Let X_1, X_2,..., X_{2n+1} be a BB sequence on [0,1] with spacing h - confirming cost of matching is \\sum_{i=1}^{2n+1} |X_i|h\n",
    "\n",
    "def comp_cost_from_bb(bb, h):\n",
    "    '''bb is a brownian bridge sequence on [0,1] with uniform spacing h\n",
    "       compute the cost of the min matching from the bb coming from the matching'''\n",
    "    \n",
    "    c = sum([np.abs(b)*h for b in bb])\n",
    "    \n",
    "    return c\n",
    "\n",
    "n = 20\n",
    "\n",
    "colors, points = sample_unif_spacing(n)\n",
    "#print colors\n",
    "\n",
    "print comp_cost_crossing(colors, points)\n",
    "print comp_cost_noncrossing(colors, points)\n",
    "\n",
    "bb = convert_bbridge(colors, points)\n",
    "h = points[1]-points[0]\n",
    "print comp_cost_from_bb(bb, h)"
   ]
  },
  {
   "cell_type": "code",
   "execution_count": 68,
   "metadata": {
    "collapsed": false
   },
   "outputs": [
    {
     "name": "stdout",
     "output_type": "stream",
     "text": [
      "0.02564102564102564\n",
      "0.025641025641\n",
      "2.5366857948385984\n"
     ]
    }
   ],
   "source": [
    "print h\n",
    "print 1./(2*n-1)\n",
    "\n",
    "print sum([math.sqrt(k*(2.*n-k)/(2.*n)) for k in range(2*n+1)])*h"
   ]
  },
  {
   "cell_type": "code",
   "execution_count": 69,
   "metadata": {
    "collapsed": false
   },
   "outputs": [
    {
     "name": "stdout",
     "output_type": "stream",
     "text": [
      "0.9768009768009768\n"
     ]
    }
   ],
   "source": [
    "cst = sum([k*n/(2.*n-k)*np.prod([float(n-i)/(2.*n-i) for i in range(1,k)]) for k in range(1,n+1)])\n",
    "\n",
    "print n*cst*h"
   ]
  },
  {
   "cell_type": "code",
   "execution_count": 94,
   "metadata": {
    "collapsed": false
   },
   "outputs": [
    {
     "name": "stdout",
     "output_type": "stream",
     "text": [
      "49.335174560546875\n",
      "49.2786\n"
     ]
    }
   ],
   "source": [
    "def f(j,x):\n",
    "    '''f(j,x) = E(\\sum_{i=1}^{2j} |x+\\sum_{k=1}^i Z_i|)\n",
    "       where Z_1,Z_2,... is a standard RW'''\n",
    "    \n",
    "    if j == 1:\n",
    "        return 0.5*np.abs(x)+0.25*np.abs(x-2.)+0.25*np.abs(x+2.)+0.5*(np.abs(x+1.)+np.abs(x-1.))\n",
    "    else:\n",
    "        return 0.5*np.abs(x)+0.25*(np.abs(x+1.)+np.abs(x-1.))+0.5*f(j-1,x)+0.25*(np.abs(x+1.)+np.abs(x+2.)+f(j-1,x+2))+0.25*(np.abs(x-1.)+np.abs(x-2.)+f(j-1,x-2))\n",
    "\n",
    "    \n",
    "def comp_RW_abs_sum(n):\n",
    "    Z = np.random.choice([1.,-1.], size=2*n)\n",
    "    \n",
    "    Y = [np.abs(sum(Z[:i])) for i in range(1,2*n+1)]\n",
    "    \n",
    "    return sum(Y)\n",
    "\n",
    "n = 10\n",
    "print f(n,0)\n",
    "\n",
    "trials = 10000\n",
    "S = 0.\n",
    "for k in range(trials):\n",
    "    S += comp_RW_abs_sum(n)\n",
    "    \n",
    "print S/trials"
   ]
  },
  {
   "cell_type": "code",
   "execution_count": 97,
   "metadata": {
    "collapsed": false
   },
   "outputs": [
    {
     "name": "stdout",
     "output_type": "stream",
     "text": [
      "0.12514458068691026\n"
     ]
    }
   ],
   "source": [
    "n = 10\n",
    "h = 1./(2.*n-1)\n",
    "print h*f(n,0)-h*sum([k/(2.*n)*math.sqrt(2.*n) for k in range(1,2*n+1)])"
   ]
  },
  {
   "cell_type": "code",
   "execution_count": null,
   "metadata": {
    "collapsed": true
   },
   "outputs": [],
   "source": []
  }
 ],
 "metadata": {
  "anaconda-cloud": {},
  "kernelspec": {
   "display_name": "Python [conda env:anaconda2]",
   "language": "python",
   "name": "conda-env-anaconda2-py"
  },
  "language_info": {
   "codemirror_mode": {
    "name": "ipython",
    "version": 2
   },
   "file_extension": ".py",
   "mimetype": "text/x-python",
   "name": "python",
   "nbconvert_exporter": "python",
   "pygments_lexer": "ipython2",
   "version": "2.7.12"
  }
 },
 "nbformat": 4,
 "nbformat_minor": 1
}
